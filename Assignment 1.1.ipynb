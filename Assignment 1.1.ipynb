{
 "cells": [
  {
   "cell_type": "code",
   "execution_count": null,
   "id": "aaef6e4f",
   "metadata": {},
   "outputs": [],
   "source": [
    "A-DATA TYPES :-\n",
    "\n",
    "              Q1. What are Data Types?\n",
    "              Q2. How many Data Types are there?\n",
    "              Q3. What are mutable and immutable Data Types?\n",
    "\n",
    "\n",
    "B-OPERATORS :- \n",
    "              Q4. What are Operators?\n",
    "              Q5. Explain type of Operators?\n",
    "              Q6. What is the order of precedence in python?\n",
    "\n",
    "\n",
    "C-CONDITIONAL STATEMENTS :- \n",
    "              Q7. What are Conditional Statements?\n",
    "              Q8. Which Conditional Statements are available in Python?\n",
    "              Q9. Illustrate a basic if, elif, else structure?\n",
    "              Q10. Is there any limit of statement that can appear under an if block?\n",
    "\n",
    "D-LOOPING STATEMENTS :-\n",
    "              Q12. What are Looping Statements?\n",
    "              Q13. Which looping statements are available in Python?\n",
    "              Q14. Illustrate a basic while structure?\n",
    "              Q15. Illustrate a basic for structure?\n",
    "              Q16. What keyword is used to skip back to the beginning of a loop?\n",
    "              Q17. What keyword is used to end looping completely?\n",
    "\n",
    "\n",
    "E-FUNCTIONS :-\n",
    "              Q18. What are functions in Python?\n",
    "              Q19. Which keyword is used to define functions in Python?\n",
    "              Q20. Is it necessary for a function to have a return type?"
   ]
  }
 ],
 "metadata": {
  "kernelspec": {
   "display_name": "Python 3 (ipykernel)",
   "language": "python",
   "name": "python3"
  },
  "language_info": {
   "codemirror_mode": {
    "name": "ipython",
    "version": 3
   },
   "file_extension": ".py",
   "mimetype": "text/x-python",
   "name": "python",
   "nbconvert_exporter": "python",
   "pygments_lexer": "ipython3",
   "version": "3.11.0"
  }
 },
 "nbformat": 4,
 "nbformat_minor": 5
}
